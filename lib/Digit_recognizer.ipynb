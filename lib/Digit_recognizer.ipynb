{
 "cells": [
  {
   "cell_type": "code",
   "execution_count": null,
   "id": "a80414d4",
   "metadata": {},
   "outputs": [],
   "source": [
    "import numpy as np \n",
    "import pandas as pd \n",
    "import matplotlib as mpl\n",
    "import matplotlib.pyplot as plt\n",
    "import math\n",
    "from tensorflow.keras.datasets import mnist"
   ]
  },
  {
   "cell_type": "code",
   "execution_count": 78,
   "id": "44817c62",
   "metadata": {},
   "outputs": [],
   "source": [
    "# Import Test/Training data\n",
    "(X_train_input, Y_train), (X_test, Y_test) = mnist.load_data()"
   ]
  },
  {
   "cell_type": "code",
   "execution_count": 79,
   "id": "df58b4f0",
   "metadata": {},
   "outputs": [
    {
     "name": "stdout",
     "output_type": "stream",
     "text": [
      "(60000, 784)\n"
     ]
    }
   ],
   "source": [
    "# Matrix of Training Data\n",
    "(s,m,n) = X_train_input.shape\n",
    "\n",
    "# Normalizee Data to be between 1 and 0\n",
    "X_train = X_train_input.reshape(-1) / 255.0 # Flatten and normalize\n",
    "\n",
    "# Reshape the arrays\n",
    "X_train = X_train_input.reshape(s,m*n)\n",
    "print(X_train.shape)"
   ]
  },
  {
   "cell_type": "code",
   "execution_count": null,
   "id": "a4b2f80a",
   "metadata": {},
   "outputs": [],
   "source": [
    "def _init_():\n",
    "  W1 = np.random.randn(784,256) * 0.01\n",
    "  b1 = np.zeros((1,256))\n",
    "  W2 = np.random.randn(256,10) * 0.01\n",
    "  b2 = np.zeros((1,10))\n",
    "  lr = 0.1 # Learning Rate\n",
    "  return(W1, W2, b1, b2, lr)"
   ]
  },
  {
   "cell_type": "code",
   "execution_count": null,
   "id": "80a69af3",
   "metadata": {},
   "outputs": [],
   "source": [
    "# Functions \n",
    "def ReLu(Z):\n",
    "  return(np.maximum(0,Z))\n",
    "\n",
    "def SoftMax(x):\n",
    "  exp_x = np.exp(x - np.max(x))  \n",
    "  return exp_x / exp_x.sum()\n",
    "\n",
    "def derv_ReLu(Z):\n",
    "  return(Z > 0).astype(float)"
   ]
  },
  {
   "cell_type": "code",
   "execution_count": null,
   "id": "a3339c39",
   "metadata": {},
   "outputs": [],
   "source": [
    "# Propagation\n",
    "def fowardprop(W1, W2, b1, b2, X):\n",
    "  # Dimensions: X = 1x784, W1 = 784x256, W2 = 256x10, b1 = 1x256 b2 = 1x10\n",
    "  #             Z1 = 1x256, A1 = 1x256, Z2 = 1x10, A2 = 1x10\n",
    "  Z1 = np.matmul(X, W1) + b1\n",
    "  A1 = ReLu(Z1)\n",
    "  Z2 = np.dot(A1, W2) + b2\n",
    "  A2 = SoftMax(Z2)\n",
    "  return(A2, A1, Z2, Z1)\n",
    "\n",
    "def backprop(W1, W2, A1, A2, Z1, Y, X, sigma):\n",
    "  # Dimensions: dz2 = 1x10, dz1 = 256x256, dw1 = , dw2 = 10x256, db1 = , db2 = 1x10             \n",
    "  # Second Layer\n",
    "  Y_one_hot = np.eye(10,M=1)[Y]  # One-hot encoding of labels\n",
    "  dz2 = sigma - Y_one_hot.T # Gradient for output layer\n",
    "  dw2 = np.matmul(dz2.T, A1)\n",
    "  db2 = np.sum(dz2, axis=0, keepdims=True)\n",
    "  # First Layer\n",
    "  dz1 = np.matmul(W2, dz2.T).matmul(derv_ReLu(Z1))\n",
    "  dw1 = np.matmul(dz1, X)\n",
    "  db1 = np.sum(dz1, axis=0, keepdims=True)\n",
    "  return(dw1, dw2, db1, db2)"
   ]
  },
  {
   "cell_type": "code",
   "execution_count": null,
   "id": "18f076a8",
   "metadata": {},
   "outputs": [],
   "source": [
    "# Update Parameters\n",
    "def Update(W1, W2, b1, b2, dw1, dw2, db1, db2, lr):\n",
    "  new_W1 = W1 - lr * dw1\n",
    "  new_W2 = W2 - lr * dw2\n",
    "  new_b1 = b1 - lr * db1\n",
    "  new_b2 = b2 - lr * db2\n",
    "  return(new_W1, new_W2, new_b1, new_b2)\n",
    "\n",
    "# Cost Fucntion\n",
    "def Cost():\n",
    "  m = \n",
    "  loss = \n",
    "  return loss\n",
    "\n",
    "def Get_pred(A2):\n",
    "  return(np.argmax(A2,0))\n",
    "\n",
    "def Pred_accuracy(predictions, test_data):\n",
    "  return(np.sum(predictions == test_data) / test_data.size)\n",
    "\n",
    "def Gradient_decent(train_data, train_labels, iterations):\n",
    "  W1, W2, b1, b2, lr = _init_()\n",
    "  for i in range(iterations):\n",
    "    A2, A1, Z2, Z1 = fowardprop(W1, W2, b1, b2, train_data)\n",
    "    dw1, dw2, db1, db2 = backprop(W1, W2, A1, A2, train_labels, train_data)\n",
    "    W1, W2, b1, b2 = Update(W1, W2, b1, b2, dw1, dw2, db1, db2, lr)\n",
    "    if (i % 10 == 0):\n",
    "      print(\"Iteration: {i}\")\n",
    "      print(\"Accuracy: \", Pred_accuracy(Get_pred(A2), train_labels))\n",
    "  return(W1, W2, b1, b2)"
   ]
  },
  {
   "cell_type": "code",
   "execution_count": 48,
   "id": "a541eb07",
   "metadata": {},
   "outputs": [
    {
     "ename": "ValueError",
     "evalue": "shapes (60000,784) and (700,10) not aligned: 784 (dim 1) != 700 (dim 0)",
     "output_type": "error",
     "traceback": [
      "\u001b[1;31m---------------------------------------------------------------------------\u001b[0m",
      "\u001b[1;31mValueError\u001b[0m                                Traceback (most recent call last)",
      "Cell \u001b[1;32mIn[48], line 2\u001b[0m\n\u001b[0;32m      1\u001b[0m \u001b[38;5;66;03m# Running Model\u001b[39;00m\n\u001b[1;32m----> 2\u001b[0m W1, W2, b1, b2 \u001b[38;5;241m=\u001b[39m \u001b[43mGradient_decent\u001b[49m\u001b[43m(\u001b[49m\u001b[43mX_train\u001b[49m\u001b[43m,\u001b[49m\u001b[43m \u001b[49m\u001b[43mY_train\u001b[49m\u001b[43m,\u001b[49m\u001b[43m \u001b[49m\u001b[38;5;241;43m500\u001b[39;49m\u001b[43m)\u001b[49m\n\u001b[0;32m      4\u001b[0m \u001b[38;5;66;03m# Testing the model\u001b[39;00m\n\u001b[0;32m      5\u001b[0m test_predictions \u001b[38;5;241m=\u001b[39m Get_pred(fowardprop(W1, W2, b1, b2, X_test)[\u001b[38;5;241m0\u001b[39m])\n",
      "Cell \u001b[1;32mIn[47], line 19\u001b[0m, in \u001b[0;36mGradient_decent\u001b[1;34m(train_data, train_labels, iterations)\u001b[0m\n\u001b[0;32m     17\u001b[0m W1, W2, b1, b2, lr \u001b[38;5;241m=\u001b[39m _init_()\n\u001b[0;32m     18\u001b[0m \u001b[38;5;28;01mfor\u001b[39;00m i \u001b[38;5;129;01min\u001b[39;00m \u001b[38;5;28mrange\u001b[39m(iterations):\n\u001b[1;32m---> 19\u001b[0m   A2, A1, Z2, Z1 \u001b[38;5;241m=\u001b[39m \u001b[43mfowardprop\u001b[49m\u001b[43m(\u001b[49m\u001b[43mW1\u001b[49m\u001b[43m,\u001b[49m\u001b[43m \u001b[49m\u001b[43mW2\u001b[49m\u001b[43m,\u001b[49m\u001b[43m \u001b[49m\u001b[43mb1\u001b[49m\u001b[43m,\u001b[49m\u001b[43m \u001b[49m\u001b[43mb2\u001b[49m\u001b[43m,\u001b[49m\u001b[43m \u001b[49m\u001b[43mtrain_data\u001b[49m\u001b[43m)\u001b[49m\n\u001b[0;32m     20\u001b[0m   dw1, dw2, db1, db2 \u001b[38;5;241m=\u001b[39m backprop(W1, W2, A1, A2, train_labels, train_data)\n\u001b[0;32m     21\u001b[0m   W1, W2, b1, b2 \u001b[38;5;241m=\u001b[39m Update(W1, W2, b1, b2, dw1, dw2, db1, db2, lr)\n",
      "Cell \u001b[1;32mIn[46], line 3\u001b[0m, in \u001b[0;36mfowardprop\u001b[1;34m(W1, W2, b1, b2, X)\u001b[0m\n\u001b[0;32m      2\u001b[0m \u001b[38;5;28;01mdef\u001b[39;00m\u001b[38;5;250m \u001b[39m\u001b[38;5;21mfowardprop\u001b[39m(W1, W2, b1, b2, X):\n\u001b[1;32m----> 3\u001b[0m   Z1 \u001b[38;5;241m=\u001b[39m \u001b[43mnp\u001b[49m\u001b[38;5;241;43m.\u001b[39;49m\u001b[43mdot\u001b[49m\u001b[43m(\u001b[49m\u001b[43mX\u001b[49m\u001b[43m,\u001b[49m\u001b[43m \u001b[49m\u001b[43mW1\u001b[49m\u001b[38;5;241;43m.\u001b[39;49m\u001b[43mT\u001b[49m\u001b[43m)\u001b[49m \u001b[38;5;241m+\u001b[39m b1\u001b[38;5;241m.\u001b[39mT\n\u001b[0;32m      4\u001b[0m   A1 \u001b[38;5;241m=\u001b[39m ReLu(Z1)\n\u001b[0;32m      5\u001b[0m   Z2 \u001b[38;5;241m=\u001b[39m np\u001b[38;5;241m.\u001b[39mdot(A1, W2\u001b[38;5;241m.\u001b[39mT) \u001b[38;5;241m+\u001b[39m b2\u001b[38;5;241m.\u001b[39mT\n",
      "\u001b[1;31mValueError\u001b[0m: shapes (60000,784) and (700,10) not aligned: 784 (dim 1) != 700 (dim 0)"
     ]
    }
   ],
   "source": [
    "# Running Model\n",
    "W1, W2, b1, b2 = Gradient_decent(X_train, Y_train, 500)\n",
    "\n",
    "# Testing the model\n",
    "test_predictions = Get_pred(fowardprop(W1, W2, b1, b2, X_test)[0])\n",
    "test_accuracy = Pred_accuracy(test_predictions, Y_test)\n",
    "print(f\"Test Accuracy: {test_accuracy:.4f}\")"
   ]
  }
 ],
 "metadata": {
  "kernelspec": {
   "display_name": "Python 3",
   "language": "python",
   "name": "python3"
  },
  "language_info": {
   "codemirror_mode": {
    "name": "ipython",
    "version": 3
   },
   "file_extension": ".py",
   "mimetype": "text/x-python",
   "name": "python",
   "nbconvert_exporter": "python",
   "pygments_lexer": "ipython3",
   "version": "3.11.9"
  }
 },
 "nbformat": 4,
 "nbformat_minor": 5
}
